{
  "nbformat": 4,
  "nbformat_minor": 0,
  "metadata": {
    "colab": {
      "provenance": []
    },
    "kernelspec": {
      "name": "python3",
      "display_name": "Python 3"
    },
    "language_info": {
      "name": "python"
    }
  },
  "cells": [
    {
      "cell_type": "markdown",
      "source": [
        "Problem 1: Bank Account Create a class representing a bank account with attributes like account number, account holder name, and balance. Implement methods to deposit and withdraw money from the account.\n",
        "\n"
      ],
      "metadata": {
        "id": "91QA-j3D-dwT"
      }
    },
    {
      "cell_type": "code",
      "source": [
        "class bankaccount:\n",
        "\n",
        "  def __init__(self,accountnumber,balance,holdername,):\n",
        "    self.accountnumber=accountnumber\n",
        "    self.balance=balance\n",
        "    self.holdername=holdername\n",
        "\n",
        "\n",
        "  def withdraw(self,amount):\n",
        "    if amount<=self.balance:\n",
        "      self.balance-=amount\n",
        "      print(f'You are withdrawing {amount} from {self.holdername} account')\n",
        "      print(f'Your current balance is {self.balance}')\n",
        "    else:\n",
        "      print('Insufficient balence')\n",
        "\n",
        "  def deposite(self,amount):\n",
        "    self.balance+=amount\n",
        "    print(f'You sucessfully deposite{amount} in your account')\n",
        "    print(f'Your updated balance is {self.balance}')\n",
        "\n",
        "\n",
        "\n",
        "rohan=bankaccount(123456,5000000000000000000,'rohan chatse')\n",
        "\n"
      ],
      "metadata": {
        "id": "8yw3dJdp59a6"
      },
      "execution_count": null,
      "outputs": []
    },
    {
      "cell_type": "code",
      "source": [
        "rohan.withdraw(50000)"
      ],
      "metadata": {
        "id": "-BhOvEz--hJa",
        "colab": {
          "base_uri": "https://localhost:8080/"
        },
        "outputId": "3c25cbbd-3738-46b5-f29c-769ea3405be9"
      },
      "execution_count": null,
      "outputs": [
        {
          "output_type": "stream",
          "name": "stdout",
          "text": [
            "You are withdrawing 50000 from rohan chatse account\n",
            "Your current balance is 4999999999999950000\n"
          ]
        }
      ]
    },
    {
      "cell_type": "markdown",
      "source": [
        "Problem 2: Employee Management Create a class representing an employee with attributes like employee ID, name, and salary. Implement methods to calculate the yearly bonus and display employee details.\n",
        "\n"
      ],
      "metadata": {
        "id": "D8SUWfuB-hiN"
      }
    },
    {
      "cell_type": "code",
      "source": [
        "class EMS:\n",
        "\n",
        "  def __init__(self,employee_name,employee_id,salary):\n",
        "    self.employee_name=employee_name\n",
        "    self.employee_id=employee_id\n",
        "    self.salary=salary\n",
        "\n",
        "  def employee_detail(self):\n",
        "    print(f'Employee details')\n",
        "    print(f'Employee Name {self.employee_name}, Employee Id {self.employee_id}, Salary {self.salary}')\n",
        "\n",
        "  def yearly_bonus(self, bonus):\n",
        "    bonus_amount = (bonus / 100) * self.salary\n",
        "    print(bonus_amount)\n",
        "\n",
        "employee1=EMS('pranav',656475,50000)\n"
      ],
      "metadata": {
        "id": "zKxOhZmG_bbv"
      },
      "execution_count": null,
      "outputs": []
    },
    {
      "cell_type": "code",
      "source": [
        "employee1.employee_detail()"
      ],
      "metadata": {
        "colab": {
          "base_uri": "https://localhost:8080/"
        },
        "id": "lVKW6853Dd1E",
        "outputId": "7d43b3d7-48ed-4918-c8f5-c4130f5ffa9b"
      },
      "execution_count": null,
      "outputs": [
        {
          "output_type": "stream",
          "name": "stdout",
          "text": [
            "Employee details\n",
            "Employee Name pranav, Employee Id 656475, Salary 50000\n"
          ]
        }
      ]
    },
    {
      "cell_type": "markdown",
      "source": [
        "Problem 3: Vehicle Rental Create a class representing a vehicle rental system. Implement methods to rent a vehicle, return a vehicle, and display available vehicles.\n",
        "\n",
        "\n"
      ],
      "metadata": {
        "id": "Afp3t4V6-miL"
      }
    },
    {
      "cell_type": "code",
      "source": [
        "class VRC:\n",
        "\n",
        "    def __init__(self, vehicles_name, time):\n",
        "        self.rent = 5000\n",
        "        self.vehicles_name = vehicles_name\n",
        "        self.time = time\n",
        "        self.available_vehicles_list = [\"Toyota\", \"Honda\", \"Ford\", \"Chevrolet\", \"Nissan\", \"BMW\", \"Mercedes-Benz\", \"Audi\", \"Kia\", \"Hyundai\"]\n",
        "\n",
        "    def available_vehicles(self):\n",
        "        print(self.available_vehicles_list)\n",
        "\n",
        "    def rent_a_vehicle(self):\n",
        "        print(f'Take your {self.vehicles_name} for a rent for {self.time} days on a daily rent of {self.rent} ')\n",
        "\n",
        "    def return_a_vehicle(self):\n",
        "        print(f'Thanks for renting our {self.vehicles_name}')\n",
        "\n",
        "\n",
        "cars= VRC(\"\", 0)\n",
        "cars.available_vehicles()\n",
        "\n",
        "\n",
        "choose_a_car = input('Choose car to drive: ')\n",
        "time = int(input('For how many days do you want to rent the car: '))\n",
        "customer1 = VRC(choose_a_car, time)\n",
        "customer1.rent_a_vehicle()\n"
      ],
      "metadata": {
        "id": "3T3qZmaF_cSV",
        "colab": {
          "base_uri": "https://localhost:8080/"
        },
        "outputId": "543b1978-737c-43b3-be4d-2ded7714ea65"
      },
      "execution_count": null,
      "outputs": [
        {
          "output_type": "stream",
          "name": "stdout",
          "text": [
            "['Toyota', 'Honda', 'Ford', 'Chevrolet', 'Nissan', 'BMW', 'Mercedes-Benz', 'Audi', 'Kia', 'Hyundai']\n",
            "Choose car to drive: Honda\n",
            "For how many days do you want to rent the car: 6\n",
            "Take your Honda for a rent for 6 days on a daily rent of 5000 \n"
          ]
        }
      ]
    },
    {
      "cell_type": "markdown",
      "source": [
        "Problem 4: Library Catalog Create classes representing a library and a book. Implement methods to add books to the library, borrow books, and display available books.\n",
        "\n"
      ],
      "metadata": {
        "id": "LasZYb97-sRi"
      }
    },
    {
      "cell_type": "code",
      "source": [
        "class book:\n",
        "\n",
        "  def __init__(self,bookname,bookid):\n",
        "    self.bookname=bookname\n",
        "    self.bookid=bookid\n",
        "\n",
        "  def booknames(self):\n",
        "    print(self.bookname)\n",
        "\n",
        "  def bookids(self):\n",
        "    print(self.bookids)\n",
        "\n",
        "\n",
        "class libary(book):\n",
        "\n",
        "  def __init__(self):\n",
        "    self.books=[]\n",
        "\n",
        "  def addbook(self,bookname):\n",
        "    self.books.append(bookname)\n",
        "\n",
        "  def get_book(self,bookname):\n",
        "    if bookname in self.books:\n",
        "      print(f'You are borrowing this book named {bookname}')\n",
        "    else:\n",
        "      print(f'{bookname} is not available in libary')\n",
        "\n",
        "  def available_books(self):\n",
        "    if self.books:\n",
        "      for i in self.books:\n",
        "        print(i)\n",
        "    else:\n",
        "      print('This book not available in libary')\n",
        "\n",
        "\n",
        "\n",
        "\n"
      ],
      "metadata": {
        "id": "-q_sgw5p_c6A"
      },
      "execution_count": null,
      "outputs": []
    },
    {
      "cell_type": "code",
      "source": [
        "libirian=libary()\n",
        "libirian.addbook('Data science')\n",
        "\n",
        "\n",
        "libirian.available_books()"
      ],
      "metadata": {
        "colab": {
          "base_uri": "https://localhost:8080/"
        },
        "id": "mGIWg9uzQ4L1",
        "outputId": "1f5132f7-2da9-4408-82c1-0d4ad7e54124"
      },
      "execution_count": null,
      "outputs": [
        {
          "output_type": "stream",
          "name": "stdout",
          "text": [
            "Data science\n"
          ]
        }
      ]
    },
    {
      "cell_type": "markdown",
      "source": [
        "Problem 5: Product Inventory Create classes representing a product and an inventory system. Implement methods to add products to the inventory, update product quantity, and display available products.\n",
        "\n"
      ],
      "metadata": {
        "id": "ZNx3gSyp-xxS"
      }
    },
    {
      "cell_type": "code",
      "source": [
        "class inventory:\n",
        "  def __init__(self,shop_name):\n",
        "    self.products=[]\n",
        "    self.shopname=shop_name\n",
        "    self.quantity=len(self.products)\n",
        "  def add_products(self,product_name):\n",
        "    self.products.append(product_name)\n",
        "\n",
        "  def available_products(self,product_name):\n",
        "\n",
        "    if product_name == product_name:\n",
        "      print(f'{product_name} Available in inventory')\n",
        "    else:\n",
        "      print(f'{product_name} Not available in inventory')"
      ],
      "metadata": {
        "id": "nJDibkkz_dwN"
      },
      "execution_count": 70,
      "outputs": []
    },
    {
      "cell_type": "code",
      "source": [
        "shop1=inventory('chatse')\n",
        "shop1.add_products('data science')\n",
        "shop1.add_products('python')"
      ],
      "metadata": {
        "id": "F_FE5DD7cRvE"
      },
      "execution_count": 71,
      "outputs": []
    },
    {
      "cell_type": "code",
      "source": [
        "shop1.available_products('python')"
      ],
      "metadata": {
        "colab": {
          "base_uri": "https://localhost:8080/"
        },
        "id": "JArt4xrWczRS",
        "outputId": "1acd953e-6ef7-462d-843c-43f773472dc7"
      },
      "execution_count": 72,
      "outputs": [
        {
          "output_type": "stream",
          "name": "stdout",
          "text": [
            "python Available in inventory\n"
          ]
        }
      ]
    },
    {
      "cell_type": "markdown",
      "source": [
        "Problem 6: Shape Calculation Create a class representing a shape with attributes like length, width, and height. Implement methods to calculate the area and perimeter of the shape.\n",
        "\n"
      ],
      "metadata": {
        "id": "7rD_aOmd-6t6"
      }
    },
    {
      "cell_type": "code",
      "source": [
        "class shape:\n",
        "\n",
        "  def __init__(self,length,width,height):\n",
        "    self.length=length\n",
        "    self.width=width\n",
        "    self.height=height\n",
        "\n",
        "class Rectangle(shape):\n",
        "\n",
        "  def calculate_area(self):\n",
        "    return self.length * self.width\n",
        "\n",
        "  def calculate_perimeter(self):\n",
        "    return 2 * (self.length + self.width)\n",
        "\n",
        "class cube(shape):\n",
        "\n",
        "  def calculate_area(self):\n",
        "    return 2 * (self.length * self.width + self.length * self.height + self.width * self.height)\n",
        "\n",
        "  def calculate_perimeter(self):\n",
        "    return 4 * (self.length + self.width + self.height)\n",
        "\n",
        "\n",
        "\n",
        "\n",
        "\n"
      ],
      "metadata": {
        "id": "7iYl4A0b_eWN"
      },
      "execution_count": 21,
      "outputs": []
    },
    {
      "cell_type": "code",
      "source": [
        "obj1=Rectangle(23,25,10)\n",
        "obj1.calculate_area()"
      ],
      "metadata": {
        "colab": {
          "base_uri": "https://localhost:8080/"
        },
        "id": "qzGFA91bPjI-",
        "outputId": "07b9229c-ea4b-4653-8fcf-e2cd70ce870e"
      },
      "execution_count": 22,
      "outputs": [
        {
          "output_type": "execute_result",
          "data": {
            "text/plain": [
              "575"
            ]
          },
          "metadata": {},
          "execution_count": 22
        }
      ]
    },
    {
      "cell_type": "markdown",
      "source": [
        "Problem 7: Student Management Create a class representing a student with attributes like student ID, name, and grades. Implement methods to calculate the average grade and display student details.\n",
        "\n"
      ],
      "metadata": {
        "id": "K4Inm0dS--KM"
      }
    },
    {
      "cell_type": "code",
      "source": [
        "class sms:\n",
        "\n",
        "  def __init__(self,studentname,studentid,math,physics,chemistry,biology):\n",
        "    self.studentname=studentname\n",
        "    self.studentid=studentid\n",
        "    self.math=math\n",
        "    self.physics=physics\n",
        "    self.chemistry=chemistry\n",
        "    self.biology=biology\n",
        "\n",
        "  def student_details(self):\n",
        "    print(f'Name:{self.studentname} student ID:{self.studentid}')\n",
        "\n",
        "  def calculate_average_grades(self):\n",
        "    average= (self.math + self.physics + self.chemistry + self.biology )//4\n",
        "    print(f'Average of all subjects is {average}')\n",
        "\n",
        "\n",
        "\n",
        "\n"
      ],
      "metadata": {
        "id": "wXpU39fi_e_8"
      },
      "execution_count": 15,
      "outputs": []
    },
    {
      "cell_type": "code",
      "source": [
        "student1=sms('rohan','1234',95,88,76,87,)\n",
        "student1.calculate_average_grades()"
      ],
      "metadata": {
        "colab": {
          "base_uri": "https://localhost:8080/"
        },
        "id": "hD5_yM7NDLll",
        "outputId": "47ceaeef-3a02-4f79-cee4-2cb7682ee96a"
      },
      "execution_count": 16,
      "outputs": [
        {
          "output_type": "stream",
          "name": "stdout",
          "text": [
            "Average of all subjects is 86\n"
          ]
        }
      ]
    },
    {
      "cell_type": "code",
      "source": [
        "\n",
        "student1.student_details()"
      ],
      "metadata": {
        "colab": {
          "base_uri": "https://localhost:8080/"
        },
        "id": "4uaieLpREeDo",
        "outputId": "a4f712fb-847b-4855-e3bd-e08a51ec54eb"
      },
      "execution_count": 17,
      "outputs": [
        {
          "output_type": "stream",
          "name": "stdout",
          "text": [
            "Name:rohan student ID:1234\n"
          ]
        }
      ]
    },
    {
      "cell_type": "markdown",
      "source": [
        "problem 8: Email Management Create a class representing an email with attributes like sender, recipient, and subject. Implement methods to send an email and display email details.\n",
        "\n"
      ],
      "metadata": {
        "id": "JvSE2YaF_Bsy"
      }
    },
    {
      "cell_type": "code",
      "source": [
        "class Email:\n",
        "\n",
        "  def __init__(self,sender,recipient,subject):\n",
        "    self.sender=sender\n",
        "    self.recipient=recipient\n",
        "    self.subject=subject\n",
        "\n",
        "  def send_email(self,message):\n",
        "    print(f'Sending email to {self.recipient} subject: {self.subject} message: {message}')\n",
        "\n",
        "  def email_details(self):\n",
        "    print(f'Sender Name: {self.sender} Reciver Name: {self.recipient} Subject: {self.subject}')\n",
        "\n",
        "\n"
      ],
      "metadata": {
        "id": "LebtvtUa_fz1"
      },
      "execution_count": null,
      "outputs": []
    },
    {
      "cell_type": "code",
      "source": [
        "user1=Email('Rohan','Sohan','Hello')\n",
        "user1.send_email('Hello how are you')\n"
      ],
      "metadata": {
        "id": "03TO9Cs5LkNR"
      },
      "execution_count": null,
      "outputs": []
    },
    {
      "cell_type": "code",
      "source": [
        "user1.email_details()"
      ],
      "metadata": {
        "id": "Q1svjbLvMA6q"
      },
      "execution_count": null,
      "outputs": []
    },
    {
      "cell_type": "markdown",
      "source": [
        "Problem 9: Social Media Profile Create a class representing a social media profile with attributes like username and posts. Implement methods to add posts, display posts, and search for posts by keyword.\n",
        "\n"
      ],
      "metadata": {
        "id": "iHl1MCNQ_Jyj"
      }
    },
    {
      "cell_type": "code",
      "source": [
        "class socialmedia:\n",
        "\n",
        "  def __init__(self,username):\n",
        "    self.username=username\n",
        "    self.post=[]\n",
        "\n",
        "  def add_post(self,post):\n",
        "    self.post.append(post)\n",
        "\n",
        "  def display_post(self):\n",
        "    for i in self.post:\n",
        "      print(i)\n",
        "\n",
        "  def searchforpost(self,keyword):\n",
        "    for i in self.post:\n",
        "      if keyword in i:\n",
        "        print(i)\n",
        "\n",
        "\n"
      ],
      "metadata": {
        "id": "6VOsE2NI_hK9"
      },
      "execution_count": 31,
      "outputs": []
    },
    {
      "cell_type": "code",
      "source": [
        "user1=socialmedia('rohan1234')\n",
        "user1.add_post('welcome to my first post')\n",
        "user1.add_post('This is my second post')\n",
        "user1.add_post('This is my third post')\n"
      ],
      "metadata": {
        "id": "VdMTDUElTxnJ"
      },
      "execution_count": 32,
      "outputs": []
    },
    {
      "cell_type": "code",
      "source": [
        "user1.display_post()"
      ],
      "metadata": {
        "colab": {
          "base_uri": "https://localhost:8080/"
        },
        "id": "yYaRQFT6UZPt",
        "outputId": "6b442204-20ab-4a7d-dc4f-f8e85ae3adca"
      },
      "execution_count": 33,
      "outputs": [
        {
          "output_type": "stream",
          "name": "stdout",
          "text": [
            "welcome to my first post\n",
            "This is my second post\n",
            "This is my third post\n"
          ]
        }
      ]
    },
    {
      "cell_type": "code",
      "source": [
        "user1.searchforpost('third')"
      ],
      "metadata": {
        "colab": {
          "base_uri": "https://localhost:8080/"
        },
        "id": "pwAn-u44UfvD",
        "outputId": "139bb3b0-b5e5-4ffd-b182-6c9a97d08681"
      },
      "execution_count": 34,
      "outputs": [
        {
          "output_type": "stream",
          "name": "stdout",
          "text": [
            "This is my third post\n"
          ]
        }
      ]
    },
    {
      "cell_type": "markdown",
      "source": [
        "Problem 10: ToDo List Create a class representing a ToDo list with attributes like tasks and due dates. Implement methods to add tasks, mark tasks as completed, and display pending tasks.\n"
      ],
      "metadata": {
        "id": "uTtbyapD_Sbw"
      }
    },
    {
      "cell_type": "code",
      "source": [
        "class todolist:\n",
        "  def __init__(self,due_date):\n",
        "    self.due_date=due_date\n",
        "    self.task=[]\n",
        "    self.markedtask=[]\n",
        "    self.pendingtask=[]\n",
        "\n",
        "  def showalltask(self):\n",
        "    print(self.task)\n",
        "\n",
        "  def add_task(self,task):\n",
        "    self.task.append(task)\n",
        "\n",
        "  def show_marked_task(self):\n",
        "    for i in self.markedtask:\n",
        "      print(i)\n",
        "\n",
        "  def show_pending_task(self):\n",
        "    for i in self.task:\n",
        "      if i not in self.pendingtask:\n",
        "        print(i)\n",
        "      else:\n",
        "        print('No task pending')\n",
        "\n",
        "  def mark_task(self,taskk):\n",
        "    if taskk in self.task:\n",
        "      self.task.remove(taskk)\n",
        "      self.markedtask.append(taskk)\n",
        "      self.pendingtask.remove(taskk)\n",
        "\n",
        "\n",
        "  def check_due_date(self):\n",
        "    print(self.due_date)\n"
      ],
      "metadata": {
        "id": "CGp4ILxF_j2F"
      },
      "execution_count": 55,
      "outputs": []
    },
    {
      "cell_type": "code",
      "source": [
        "\n",
        "\n",
        "user1=todolist('1 jan 2024')\n",
        "user1.add_task('Learn data science')\n",
        "user1.add_task('Do oop assigment')\n",
        "user1.add_task('Learn web development')\n",
        "user1.add_task('Learn math')\n"
      ],
      "metadata": {
        "id": "qiJGglbGYPP2"
      },
      "execution_count": 56,
      "outputs": []
    },
    {
      "cell_type": "code",
      "source": [
        "\n",
        "user1.showalltask()"
      ],
      "metadata": {
        "colab": {
          "base_uri": "https://localhost:8080/"
        },
        "id": "ZGC2_I-lYspN",
        "outputId": "e19cacf1-6615-4598-818c-aefe069c62f8"
      },
      "execution_count": 57,
      "outputs": [
        {
          "output_type": "stream",
          "name": "stdout",
          "text": [
            "['Learn data science', 'Do oop assigment', 'Learn web development', 'Learn math']\n"
          ]
        }
      ]
    },
    {
      "cell_type": "code",
      "source": [
        "user1.mark_task('Learn math')"
      ],
      "metadata": {
        "id": "qTGlCPr9Yym1"
      },
      "execution_count": 59,
      "outputs": []
    },
    {
      "cell_type": "code",
      "source": [
        "user1.show_marked_task()"
      ],
      "metadata": {
        "colab": {
          "base_uri": "https://localhost:8080/"
        },
        "id": "-OmCTB-zZIxK",
        "outputId": "4becf3e5-eeb4-418d-f31f-9f3152eed1f5"
      },
      "execution_count": 60,
      "outputs": [
        {
          "output_type": "stream",
          "name": "stdout",
          "text": [
            "Learn math\n"
          ]
        }
      ]
    },
    {
      "cell_type": "code",
      "source": [
        "user1.showalltask()"
      ],
      "metadata": {
        "colab": {
          "base_uri": "https://localhost:8080/"
        },
        "id": "WtvueGqdZfcc",
        "outputId": "541f4e1d-bbc9-4c47-e36c-cc6b8ea28d18"
      },
      "execution_count": 61,
      "outputs": [
        {
          "output_type": "stream",
          "name": "stdout",
          "text": [
            "['Learn data science', 'Do oop assigment', 'Learn web development']\n"
          ]
        }
      ]
    },
    {
      "cell_type": "code",
      "source": [
        "user1.show_pending_task()"
      ],
      "metadata": {
        "colab": {
          "base_uri": "https://localhost:8080/"
        },
        "id": "qZ92r0d3ZkbE",
        "outputId": "569fb83e-a96e-4db2-f75f-a87c7ec36291"
      },
      "execution_count": 62,
      "outputs": [
        {
          "output_type": "stream",
          "name": "stdout",
          "text": [
            "Learn data science\n",
            "Do oop assigment\n",
            "Learn web development\n"
          ]
        }
      ]
    },
    {
      "cell_type": "code",
      "source": [
        "user1.check_due_date()"
      ],
      "metadata": {
        "colab": {
          "base_uri": "https://localhost:8080/"
        },
        "id": "90EygVrQZpUL",
        "outputId": "d2fca71e-5c5e-4201-9aed-4de0249afa95"
      },
      "execution_count": 64,
      "outputs": [
        {
          "output_type": "stream",
          "name": "stdout",
          "text": [
            "1 jan 2024\n"
          ]
        }
      ]
    },
    {
      "cell_type": "code",
      "source": [],
      "metadata": {
        "id": "yHlWY1AAaTIL"
      },
      "execution_count": null,
      "outputs": []
    }
  ]
}